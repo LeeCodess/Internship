{
 "cells": [
  {
   "cell_type": "code",
   "execution_count": null,
   "id": "07421a4b",
   "metadata": {},
   "outputs": [],
   "source": [
    "# question 11 - write a python program to find the factorial of a number"
   ]
  },
  {
   "cell_type": "code",
   "execution_count": 31,
   "id": "9dd237f0",
   "metadata": {},
   "outputs": [
    {
     "name": "stdout",
     "output_type": "stream",
     "text": [
      "enter a number for which you wish to find the factorial -  7\n",
      "the factorial of 7 is 5040\n"
     ]
    }
   ],
   "source": [
    "number=int(input(\"enter a number for which you wish to find the factorial -  \"))   \n",
    "\n",
    "factorial=1    \n",
    "\n",
    "if number<0:\n",
    "    print(\"factorial does not exist for negative numbers\")    \n",
    "elif number==0:\n",
    "    print(\"the factorial of 0 is 1\")    \n",
    "else:\n",
    "    for i in range(1,number+1):\n",
    "        factorial=factorial*i\n",
    "    print(\"the factorial of\",number,\"is\",factorial)    "
   ]
  },
  {
   "cell_type": "code",
   "execution_count": 1,
   "id": "8fe1596f",
   "metadata": {},
   "outputs": [],
   "source": [
    "# question 12 - write a python program to find whether a number is prime or composite"
   ]
  },
  {
   "cell_type": "code",
   "execution_count": 3,
   "id": "6ba1eb77",
   "metadata": {},
   "outputs": [
    {
     "name": "stdout",
     "output_type": "stream",
     "text": [
      "enter any number - 8\n",
      "8 is not a prime number\n"
     ]
    }
   ],
   "source": [
    "number=int(input(\"enter any number - \"))\n",
    "\n",
    "if number>1:\n",
    "    for i in range(2,int(number/2)+1):\n",
    "        if (number%i==0):\n",
    "            print(number,\"is not a prime number\")\n",
    "            break\n",
    "    else:\n",
    "        print(number,\"is a prime number\")\n",
    "else:\n",
    "    print(number,\"is not a prime number\")"
   ]
  },
  {
   "cell_type": "code",
   "execution_count": 5,
   "id": "4672c458",
   "metadata": {},
   "outputs": [],
   "source": [
    "# question 13 - write a python program to check whether a given string is palindrome or not"
   ]
  },
  {
   "cell_type": "code",
   "execution_count": 35,
   "id": "f12229f2",
   "metadata": {},
   "outputs": [
    {
     "name": "stdout",
     "output_type": "stream",
     "text": [
      "enter a string - hannah\n",
      "the above-mentioned string is a palindrome\n"
     ]
    }
   ],
   "source": [
    "def check_palin(str):\n",
    "    for i in range (0, int(len(str)/2)):\n",
    "        if str[i]!= str[len (str)-i-1]:\n",
    "            return False \n",
    "        return True\n",
    "                    \n",
    "string_x=input('enter a string - ')\n",
    "\n",
    "answer=check_palin(string_x)\n",
    "\n",
    "if (answer):\n",
    "    print('the above-mentioned string is a palindrome')\n",
    "else:\n",
    "    print('the above-mentioned string is not a palindrome')"
   ]
  },
  {
   "cell_type": "code",
   "execution_count": 21,
   "id": "c10aaffa",
   "metadata": {},
   "outputs": [],
   "source": [
    "# question 14 - write a python program to get the third side of right-angled triangle from two given side"
   ]
  },
  {
   "cell_type": "code",
   "execution_count": 37,
   "id": "5056eeb8",
   "metadata": {},
   "outputs": [
    {
     "name": "stdout",
     "output_type": "stream",
     "text": [
      "enter a value for side x - 6\n",
      "enter a value for side y - 8\n",
      "value of the third side of the right angled triangle from two given sides is 10.0\n"
     ]
    }
   ],
   "source": [
    "def findHypotenuse(x, y):\n",
    "    \n",
    "    hypotenuse=(((x*x)+(y*y))**(1/2));\n",
    "    return hypotenuse;\n",
    "\n",
    "x=int(input('enter a value for side x - '));\n",
    "y=int(input('enter a value for side y - '));\n",
    "\n",
    "print('value of the third side of the right angled triangle from two given sides is', findHypotenuse(x, y));"
   ]
  },
  {
   "cell_type": "code",
   "execution_count": 25,
   "id": "b4cf114f",
   "metadata": {},
   "outputs": [],
   "source": [
    "# question 15 - write a python program to print the frequency of each of the characters present in a given string"
   ]
  },
  {
   "cell_type": "code",
   "execution_count": 34,
   "id": "dbe97182",
   "metadata": {},
   "outputs": [
    {
     "name": "stdout",
     "output_type": "stream",
     "text": [
      "enter any string - SwaraliYadav\n",
      "frequency of each character in SwaraliYadav is {'S': 1, 'w': 1, 'a': 4, 'r': 1, 'l': 1, 'i': 1, 'Y': 1, 'd': 1, 'v': 1}\n"
     ]
    }
   ],
   "source": [
    "string=input('enter any string - ')\n",
    "\n",
    "frequency={}\n",
    "  \n",
    "for i in string:\n",
    "    if i in frequency:\n",
    "        frequency[i]+=1\n",
    "    else:\n",
    "        frequency[i]=1\n",
    "\n",
    "print ('frequency of each character in',string,'is',str(frequency))"
   ]
  }
 ],
 "metadata": {
  "kernelspec": {
   "display_name": "Python 3 (ipykernel)",
   "language": "python",
   "name": "python3"
  },
  "language_info": {
   "codemirror_mode": {
    "name": "ipython",
    "version": 3
   },
   "file_extension": ".py",
   "mimetype": "text/x-python",
   "name": "python",
   "nbconvert_exporter": "python",
   "pygments_lexer": "ipython3",
   "version": "3.9.12"
  }
 },
 "nbformat": 4,
 "nbformat_minor": 5
}
