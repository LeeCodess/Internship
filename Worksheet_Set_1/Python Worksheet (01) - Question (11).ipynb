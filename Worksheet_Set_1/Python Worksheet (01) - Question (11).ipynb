{
 "cells": [
  {
   "cell_type": "code",
   "execution_count": null,
   "id": "07421a4b",
   "metadata": {},
   "outputs": [],
   "source": [
    "# question 11 - write a python program to find the factorial of a number"
   ]
  },
  {
   "cell_type": "code",
   "execution_count": 7,
   "id": "c447d571",
   "metadata": {},
   "outputs": [
    {
     "name": "stdout",
     "output_type": "stream",
     "text": [
      "Welcome to LeeCodess :)\n"
     ]
    }
   ],
   "source": [
    "print(\"Welcome to LeeCodess :)\")"
   ]
  },
  {
   "cell_type": "code",
   "execution_count": 8,
   "id": "9dd237f0",
   "metadata": {},
   "outputs": [
    {
     "name": "stdout",
     "output_type": "stream",
     "text": [
      "enter a number for which you wish to find the factorial -  22\n",
      "the factorial of 22 is 1124000727777607680000\n"
     ]
    }
   ],
   "source": [
    "number = int(input(\"enter a number for which you wish to find the factorial -  \"))   \n",
    "factorial = 1    \n",
    "if number < 0:    \n",
    "   print(\"factorial does not exist for negative numbers\")    \n",
    "elif number == 0:    \n",
    "   print(\"the factorial of 0 is 1\")    \n",
    "else:    \n",
    "   for i in range(1,number + 1):    \n",
    "       factorial = factorial*i    \n",
    "   print(\"the factorial of\",number,\"is\",factorial)    "
   ]
  },
  {
   "cell_type": "code",
   "execution_count": 6,
   "id": "9b8071e0",
   "metadata": {},
   "outputs": [
    {
     "name": "stdout",
     "output_type": "stream",
     "text": [
      "end\n"
     ]
    }
   ],
   "source": [
    "print(\"end\")"
   ]
  }
 ],
 "metadata": {
  "kernelspec": {
   "display_name": "Python 3 (ipykernel)",
   "language": "python",
   "name": "python3"
  },
  "language_info": {
   "codemirror_mode": {
    "name": "ipython",
    "version": 3
   },
   "file_extension": ".py",
   "mimetype": "text/x-python",
   "name": "python",
   "nbconvert_exporter": "python",
   "pygments_lexer": "ipython3",
   "version": "3.9.12"
  }
 },
 "nbformat": 4,
 "nbformat_minor": 5
}
