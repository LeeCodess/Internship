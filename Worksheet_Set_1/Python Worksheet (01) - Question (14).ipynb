{
 "cells": [
  {
   "cell_type": "code",
   "execution_count": null,
   "id": "aa0097c9",
   "metadata": {},
   "outputs": [],
   "source": [
    "# question 14 - write a python program to get the third side of right-angled triangle from two given sides"
   ]
  },
  {
   "cell_type": "code",
   "execution_count": 5,
   "id": "6f5f6ffc",
   "metadata": {},
   "outputs": [
    {
     "name": "stdout",
     "output_type": "stream",
     "text": [
      "Welcome to LeeCodess :)\n"
     ]
    }
   ],
   "source": [
    "print(\"Welcome to LeeCodess :)\")"
   ]
  },
  {
   "cell_type": "code",
   "execution_count": 4,
   "id": "7ba87f6c",
   "metadata": {},
   "outputs": [
    {
     "name": "stdout",
     "output_type": "stream",
     "text": [
      "enter a measurement for side x - 3\n",
      "enter a measurement for side y - 4\n",
      "the third side of right-angled triangle from two given sides is 5.0\n"
     ]
    }
   ],
   "source": [
    "def findHypotenuse(x, y):\n",
    "    \n",
    "    hypotenuse=(((x * x) + (y * y))**(1/2));\n",
    "    return hypotenuse;\n",
    "\n",
    "x=int(input('enter a measurement for side x - '));\n",
    "y=int(input('enter a measurement for side y - '));\n",
    "\n",
    "print('third side of the right angled triangle from two given sides is', findHypotenuse(x, y));"
   ]
  },
  {
   "cell_type": "code",
   "execution_count": 6,
   "id": "43623a10",
   "metadata": {},
   "outputs": [
    {
     "name": "stdout",
     "output_type": "stream",
     "text": [
      "end\n"
     ]
    }
   ],
   "source": [
    "print(\"end\")"
   ]
  }
 ],
 "metadata": {
  "kernelspec": {
   "display_name": "Python 3 (ipykernel)",
   "language": "python",
   "name": "python3"
  },
  "language_info": {
   "codemirror_mode": {
    "name": "ipython",
    "version": 3
   },
   "file_extension": ".py",
   "mimetype": "text/x-python",
   "name": "python",
   "nbconvert_exporter": "python",
   "pygments_lexer": "ipython3",
   "version": "3.9.12"
  }
 },
 "nbformat": 4,
 "nbformat_minor": 5
}
