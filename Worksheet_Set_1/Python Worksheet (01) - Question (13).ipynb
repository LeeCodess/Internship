{
 "cells": [
  {
   "cell_type": "code",
   "execution_count": 9,
   "id": "ca295666",
   "metadata": {},
   "outputs": [],
   "source": [
    "# question 13 - write a python program to check whether a given string is palindrome or not"
   ]
  },
  {
   "cell_type": "code",
   "execution_count": 8,
   "id": "aca6bf5b",
   "metadata": {},
   "outputs": [
    {
     "name": "stdout",
     "output_type": "stream",
     "text": [
      "Welcome to LeeCodess :)\n"
     ]
    }
   ],
   "source": [
    "print(\"Welcome to LeeCodess :)\")"
   ]
  },
  {
   "cell_type": "code",
   "execution_count": 6,
   "id": "cb02b9c5",
   "metadata": {},
   "outputs": [
    {
     "name": "stdout",
     "output_type": "stream",
     "text": [
      "enter a string - identity theft is not a joke, jim\n",
      "the above-mentioned statement is not a palindrome\n"
     ]
    }
   ],
   "source": [
    "def check_palin(str):\n",
    "              for i in range (0, int (len (str)/2)):\n",
    "                             if str [i] != str [len (str) -i-1]:\n",
    "                                            return False \n",
    "                             return True\n",
    "string_x=input('enter a string - ')\n",
    "answer=check_palin(string_x)\n",
    "if (answer):\n",
    "              print ('the above-mentioned statement is a palindrome')\n",
    "else:\n",
    "\n",
    "              print ('the above-mentioned statement is not a palindrome')"
   ]
  },
  {
   "cell_type": "code",
   "execution_count": 7,
   "id": "8b0c9585",
   "metadata": {},
   "outputs": [
    {
     "name": "stdout",
     "output_type": "stream",
     "text": [
      "end\n"
     ]
    }
   ],
   "source": [
    "print(\"end\")"
   ]
  }
 ],
 "metadata": {
  "kernelspec": {
   "display_name": "Python 3 (ipykernel)",
   "language": "python",
   "name": "python3"
  },
  "language_info": {
   "codemirror_mode": {
    "name": "ipython",
    "version": 3
   },
   "file_extension": ".py",
   "mimetype": "text/x-python",
   "name": "python",
   "nbconvert_exporter": "python",
   "pygments_lexer": "ipython3",
   "version": "3.9.12"
  }
 },
 "nbformat": 4,
 "nbformat_minor": 5
}
