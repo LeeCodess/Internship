{
 "cells": [
  {
   "cell_type": "code",
   "execution_count": 9,
   "id": "1d1408f4",
   "metadata": {},
   "outputs": [],
   "source": [
    "# question 13 - write a python program to check whether a given string is palindrome or not"
   ]
  },
  {
   "cell_type": "code",
   "execution_count": 8,
   "id": "025332d0",
   "metadata": {},
   "outputs": [
    {
     "name": "stdout",
     "output_type": "stream",
     "text": [
      "Welcome to LeeCodess :)\n"
     ]
    }
   ],
   "source": [
    "print(\"Welcome to LeeCodess :)\")"
   ]
  },
  {
   "cell_type": "code",
   "execution_count": 6,
   "id": "cf8230d9",
   "metadata": {},
   "outputs": [
    {
     "name": "stdout",
     "output_type": "stream",
     "text": [
      "enter a string - identity theft is not a joke, jim\n",
      "the above-mentioned statement is not a palindrome\n"
     ]
    }
   ],
   "source": [
    "def check_palin(str):\n",
    "    \n",
    "              for i in range (0, int (len (str)/2)):\n",
    "                             if str [i] != str [len (str) -i-1]:\n",
    "                                            return False \n",
    "                             return True\n",
    "                    \n",
    "string_x=input('enter a string - ')\n",
    "\n",
    "answer=check_palin(string_x)\n",
    "\n",
    "if (answer):\n",
    "              print ('the above-mentioned statement is a palindrome')\n",
    "else:\n",
    "              print ('the above-mentioned statement is not a palindrome')"
   ]
  },
  {
   "cell_type": "code",
   "execution_count": 7,
   "id": "7f1c5d19",
   "metadata": {},
   "outputs": [
    {
     "name": "stdout",
     "output_type": "stream",
     "text": [
      "end\n"
     ]
    }
   ],
   "source": [
    "print(\"end\")"
   ]
  }
 ],
 "metadata": {
  "kernelspec": {
   "display_name": "Python 3 (ipykernel)",
   "language": "python",
   "name": "python3"
  },
  "language_info": {
   "codemirror_mode": {
    "name": "ipython",
    "version": 3
   },
   "file_extension": ".py",
   "mimetype": "text/x-python",
   "name": "python",
   "nbconvert_exporter": "python",
   "pygments_lexer": "ipython3",
   "version": "3.9.12"
  }
 },
 "nbformat": 4,
 "nbformat_minor": 5
}
