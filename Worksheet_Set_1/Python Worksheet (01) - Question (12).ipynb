{
 "cells": [
  {
   "cell_type": "code",
   "execution_count": null,
   "id": "6647f08b",
   "metadata": {},
   "outputs": [],
   "source": [
    "# question 12 - write a python program to find whether a number is prime or composite"
   ]
  },
  {
   "cell_type": "code",
   "execution_count": 1,
   "id": "38d5d068",
   "metadata": {},
   "outputs": [
    {
     "name": "stdout",
     "output_type": "stream",
     "text": [
      "Welcome to LeeCodess :)\n"
     ]
    }
   ],
   "source": [
    "print(\"Welcome to LeeCodess :)\")"
   ]
  },
  {
   "cell_type": "code",
   "execution_count": 3,
   "id": "eac25516",
   "metadata": {},
   "outputs": [
    {
     "name": "stdout",
     "output_type": "stream",
     "text": [
      "enter any number - 3\n",
      "3 is a prime number\n"
     ]
    }
   ],
   "source": [
    "number=int(input(\"enter any number - \"))\n",
    "\n",
    "if number>1:\n",
    "    for i in range(2,int(number/2)+1):\n",
    "        if (number%i==0):\n",
    "            print(number,\"is not a prime number\")\n",
    "            break\n",
    "    else:\n",
    "        print(number,\"is a prime number\")\n",
    "else:\n",
    "    print(number,\"is not a prime number\")"
   ]
  },
  {
   "cell_type": "code",
   "execution_count": 4,
   "id": "2f17dfe0",
   "metadata": {},
   "outputs": [
    {
     "name": "stdout",
     "output_type": "stream",
     "text": [
      "end\n"
     ]
    }
   ],
   "source": [
    "print(\"end\")"
   ]
  }
 ],
 "metadata": {
  "kernelspec": {
   "display_name": "Python 3 (ipykernel)",
   "language": "python",
   "name": "python3"
  },
  "language_info": {
   "codemirror_mode": {
    "name": "ipython",
    "version": 3
   },
   "file_extension": ".py",
   "mimetype": "text/x-python",
   "name": "python",
   "nbconvert_exporter": "python",
   "pygments_lexer": "ipython3",
   "version": "3.9.12"
  }
 },
 "nbformat": 4,
 "nbformat_minor": 5
}
